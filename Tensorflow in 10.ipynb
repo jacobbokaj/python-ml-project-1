{
 "cells": [
  {
   "cell_type": "markdown",
   "metadata": {},
   "source": [
    "# 0. Import Data"
   ]
  },
  {
   "cell_type": "code",
   "execution_count": 1,
   "metadata": {},
   "outputs": [],
   "source": [
    "import pandas as pd\n",
    "from sklearn.model_selection import train_test_split"
   ]
  },
  {
   "cell_type": "code",
   "execution_count": 2,
   "metadata": {},
   "outputs": [],
   "source": [
    "df = pd.read_csv(\"C:\\\\Users\\\\jacob\\\\Desktop\\\\PythonProjects\\\\Python_Project_1\\\\datasets_fun\\\\churn.csv\")"
   ]
  },
  {
   "cell_type": "code",
   "execution_count": 3,
   "metadata": {},
   "outputs": [],
   "source": [
    "X = pd.get_dummies(df.drop(['Churn', 'Customer ID'], axis=1))\n",
    "y = df['Churn'].apply(lambda x: 1 if x=='Yes' else 0)\n",
    "\n",
    "X = X.astype('float32')"
   ]
  },
  {
   "cell_type": "code",
   "execution_count": 4,
   "metadata": {},
   "outputs": [],
   "source": [
    "X_train, X_test, y_train, y_test = train_test_split(X, y, test_size=.2)"
   ]
  },
  {
   "cell_type": "code",
   "execution_count": 51,
   "metadata": {},
   "outputs": [
    {
     "data": {
      "text/plain": [
       "4524    0\n",
       "5204    0\n",
       "5900    0\n",
       "657     0\n",
       "143     0\n",
       "Name: Churn, dtype: int64"
      ]
     },
     "execution_count": 51,
     "metadata": {},
     "output_type": "execute_result"
    }
   ],
   "source": [
    "y_train.head()"
   ]
  },
  {
   "cell_type": "markdown",
   "metadata": {},
   "source": [
    "# 1. Import Dependencies"
   ]
  },
  {
   "cell_type": "code",
   "execution_count": 52,
   "metadata": {},
   "outputs": [],
   "source": [
    "from tensorflow.keras.models import Sequential, load_model\n",
    "from tensorflow.keras.layers import Dense\n",
    "from sklearn.metrics import accuracy_score"
   ]
  },
  {
   "cell_type": "markdown",
   "metadata": {},
   "source": [
    "# 2. Build and Compile Model"
   ]
  },
  {
   "cell_type": "code",
   "execution_count": 53,
   "metadata": {},
   "outputs": [],
   "source": [
    "model = Sequential()\n",
    "model.add(Dense(units=32, activation='relu', input_dim=len(X_train.columns)))\n",
    "model.add(Dense(units=64, activation='relu'))\n",
    "model.add(Dense(units=1, activation='sigmoid'))"
   ]
  },
  {
   "cell_type": "code",
   "execution_count": 54,
   "metadata": {},
   "outputs": [],
   "source": [
    "model.compile(loss='binary_crossentropy', optimizer='sgd', metrics='accuracy')"
   ]
  },
  {
   "cell_type": "markdown",
   "metadata": {},
   "source": [
    "# 3. Fit, Predict and Evaluate"
   ]
  },
  {
   "cell_type": "code",
   "execution_count": 55,
   "metadata": {
    "collapsed": true
   },
   "outputs": [
    {
     "name": "stdout",
     "output_type": "stream",
     "text": [
      "Epoch 1/200\n",
      "177/177 [==============================] - 2s 5ms/step - loss: 0.5096 - accuracy: 0.7517\n",
      "Epoch 2/200\n",
      "177/177 [==============================] - 1s 3ms/step - loss: 0.4925 - accuracy: 0.7716\n",
      "Epoch 3/200\n",
      "177/177 [==============================] - 1s 3ms/step - loss: 0.4835 - accuracy: 0.7716\n",
      "Epoch 4/200\n",
      "177/177 [==============================] - 1s 4ms/step - loss: 0.4771 - accuracy: 0.7775\n",
      "Epoch 5/200\n",
      "177/177 [==============================] - 1s 4ms/step - loss: 0.4813 - accuracy: 0.7734\n",
      "Epoch 6/200\n",
      "177/177 [==============================] - 1s 4ms/step - loss: 0.4752 - accuracy: 0.7792\n",
      "Epoch 7/200\n",
      "177/177 [==============================] - 1s 4ms/step - loss: 0.4692 - accuracy: 0.7807\n",
      "Epoch 8/200\n",
      "177/177 [==============================] - 1s 4ms/step - loss: 0.4707 - accuracy: 0.7821\n",
      "Epoch 9/200\n",
      "177/177 [==============================] - 1s 4ms/step - loss: 0.4659 - accuracy: 0.7819\n",
      "Epoch 10/200\n",
      "177/177 [==============================] - 1s 4ms/step - loss: 0.4635 - accuracy: 0.7801\n",
      "Epoch 11/200\n",
      "177/177 [==============================] - 1s 4ms/step - loss: 0.4627 - accuracy: 0.7821\n",
      "Epoch 12/200\n",
      "177/177 [==============================] - 1s 4ms/step - loss: 0.4608 - accuracy: 0.7849\n",
      "Epoch 13/200\n",
      "177/177 [==============================] - 1s 4ms/step - loss: 0.4594 - accuracy: 0.7823\n",
      "Epoch 14/200\n",
      "177/177 [==============================] - 1s 4ms/step - loss: 0.4592 - accuracy: 0.7833\n",
      "Epoch 15/200\n",
      "177/177 [==============================] - 1s 4ms/step - loss: 0.4584 - accuracy: 0.7856\n",
      "Epoch 16/200\n",
      "177/177 [==============================] - 1s 4ms/step - loss: 0.4599 - accuracy: 0.7851\n",
      "Epoch 17/200\n",
      "177/177 [==============================] - 1s 4ms/step - loss: 0.4552 - accuracy: 0.7844\n",
      "Epoch 18/200\n",
      "177/177 [==============================] - 1s 4ms/step - loss: 0.4568 - accuracy: 0.7812\n",
      "Epoch 19/200\n",
      "177/177 [==============================] - 1s 4ms/step - loss: 0.4563 - accuracy: 0.7853\n",
      "Epoch 20/200\n",
      "177/177 [==============================] - 1s 4ms/step - loss: 0.4537 - accuracy: 0.7842\n",
      "Epoch 21/200\n",
      "177/177 [==============================] - 1s 4ms/step - loss: 0.4544 - accuracy: 0.7783\n",
      "Epoch 22/200\n",
      "177/177 [==============================] - 1s 4ms/step - loss: 0.4574 - accuracy: 0.7817\n",
      "Epoch 23/200\n",
      "177/177 [==============================] - 1s 4ms/step - loss: 0.4564 - accuracy: 0.7846\n",
      "Epoch 24/200\n",
      "177/177 [==============================] - 1s 4ms/step - loss: 0.4537 - accuracy: 0.7844\n",
      "Epoch 25/200\n",
      "177/177 [==============================] - 1s 4ms/step - loss: 0.4523 - accuracy: 0.7854\n",
      "Epoch 26/200\n",
      "177/177 [==============================] - 1s 4ms/step - loss: 0.4532 - accuracy: 0.7837\n",
      "Epoch 27/200\n",
      "177/177 [==============================] - 1s 4ms/step - loss: 0.4530 - accuracy: 0.7851\n",
      "Epoch 28/200\n",
      "177/177 [==============================] - 1s 4ms/step - loss: 0.4512 - accuracy: 0.7826\n",
      "Epoch 29/200\n",
      "177/177 [==============================] - 1s 4ms/step - loss: 0.4521 - accuracy: 0.7856\n",
      "Epoch 30/200\n",
      "177/177 [==============================] - 1s 4ms/step - loss: 0.4531 - accuracy: 0.7853\n",
      "Epoch 31/200\n",
      "177/177 [==============================] - 1s 4ms/step - loss: 0.4518 - accuracy: 0.7846\n",
      "Epoch 32/200\n",
      "177/177 [==============================] - 1s 4ms/step - loss: 0.4531 - accuracy: 0.7833\n",
      "Epoch 33/200\n",
      "177/177 [==============================] - 1s 4ms/step - loss: 0.4499 - accuracy: 0.7828\n",
      "Epoch 34/200\n",
      "177/177 [==============================] - 1s 4ms/step - loss: 0.4511 - accuracy: 0.7862\n",
      "Epoch 35/200\n",
      "177/177 [==============================] - 1s 4ms/step - loss: 0.4496 - accuracy: 0.7867\n",
      "Epoch 36/200\n",
      "177/177 [==============================] - 1s 4ms/step - loss: 0.4499 - accuracy: 0.7872\n",
      "Epoch 37/200\n",
      "177/177 [==============================] - 1s 4ms/step - loss: 0.4503 - accuracy: 0.7881\n",
      "Epoch 38/200\n",
      "177/177 [==============================] - 1s 4ms/step - loss: 0.4492 - accuracy: 0.7897\n",
      "Epoch 39/200\n",
      "177/177 [==============================] - 1s 4ms/step - loss: 0.4490 - accuracy: 0.7883\n",
      "Epoch 40/200\n",
      "177/177 [==============================] - 1s 4ms/step - loss: 0.4485 - accuracy: 0.7846\n",
      "Epoch 41/200\n",
      "177/177 [==============================] - 1s 4ms/step - loss: 0.4501 - accuracy: 0.7815\n",
      "Epoch 42/200\n",
      "177/177 [==============================] - 1s 4ms/step - loss: 0.4468 - accuracy: 0.7865\n",
      "Epoch 43/200\n",
      "177/177 [==============================] - 1s 4ms/step - loss: 0.4466 - accuracy: 0.7881\n",
      "Epoch 44/200\n",
      "177/177 [==============================] - 1s 4ms/step - loss: 0.4485 - accuracy: 0.7860\n",
      "Epoch 45/200\n",
      "177/177 [==============================] - 1s 4ms/step - loss: 0.4478 - accuracy: 0.7826\n",
      "Epoch 46/200\n",
      "177/177 [==============================] - 1s 4ms/step - loss: 0.4493 - accuracy: 0.7831\n",
      "Epoch 47/200\n",
      "177/177 [==============================] - 1s 4ms/step - loss: 0.4460 - accuracy: 0.7860\n",
      "Epoch 48/200\n",
      "177/177 [==============================] - 1s 4ms/step - loss: 0.4467 - accuracy: 0.7879\n",
      "Epoch 49/200\n",
      "177/177 [==============================] - 1s 4ms/step - loss: 0.4450 - accuracy: 0.7890\n",
      "Epoch 50/200\n",
      "177/177 [==============================] - 1s 4ms/step - loss: 0.4477 - accuracy: 0.7819\n",
      "Epoch 51/200\n",
      "177/177 [==============================] - 1s 4ms/step - loss: 0.4455 - accuracy: 0.7867\n",
      "Epoch 52/200\n",
      "177/177 [==============================] - 1s 4ms/step - loss: 0.4474 - accuracy: 0.7860\n",
      "Epoch 53/200\n",
      "177/177 [==============================] - 1s 4ms/step - loss: 0.4468 - accuracy: 0.7881\n",
      "Epoch 54/200\n",
      "177/177 [==============================] - 1s 4ms/step - loss: 0.4447 - accuracy: 0.7906\n",
      "Epoch 55/200\n",
      "177/177 [==============================] - 1s 4ms/step - loss: 0.4460 - accuracy: 0.7862\n",
      "Epoch 56/200\n",
      "177/177 [==============================] - 1s 4ms/step - loss: 0.4477 - accuracy: 0.7890\n",
      "Epoch 57/200\n",
      "177/177 [==============================] - 1s 4ms/step - loss: 0.4444 - accuracy: 0.7863\n",
      "Epoch 58/200\n",
      "177/177 [==============================] - 1s 4ms/step - loss: 0.4451 - accuracy: 0.7833\n",
      "Epoch 59/200\n",
      "177/177 [==============================] - 1s 4ms/step - loss: 0.4452 - accuracy: 0.7890\n",
      "Epoch 60/200\n",
      "177/177 [==============================] - 1s 4ms/step - loss: 0.4449 - accuracy: 0.7869\n",
      "Epoch 61/200\n",
      "177/177 [==============================] - 1s 4ms/step - loss: 0.4454 - accuracy: 0.7862\n",
      "Epoch 62/200\n",
      "177/177 [==============================] - 1s 4ms/step - loss: 0.4445 - accuracy: 0.7858\n",
      "Epoch 63/200\n",
      "177/177 [==============================] - 1s 4ms/step - loss: 0.4458 - accuracy: 0.7865\n",
      "Epoch 64/200\n",
      "177/177 [==============================] - 1s 4ms/step - loss: 0.4434 - accuracy: 0.7894\n",
      "Epoch 65/200\n",
      "177/177 [==============================] - 1s 4ms/step - loss: 0.4444 - accuracy: 0.7894\n",
      "Epoch 66/200\n",
      "177/177 [==============================] - 1s 4ms/step - loss: 0.4446 - accuracy: 0.7854\n",
      "Epoch 67/200\n",
      "177/177 [==============================] - 1s 4ms/step - loss: 0.4446 - accuracy: 0.7867\n",
      "Epoch 68/200\n",
      "177/177 [==============================] - 1s 4ms/step - loss: 0.4432 - accuracy: 0.7895\n",
      "Epoch 69/200\n",
      "177/177 [==============================] - 1s 4ms/step - loss: 0.4448 - accuracy: 0.7892\n",
      "Epoch 70/200\n",
      "177/177 [==============================] - 1s 4ms/step - loss: 0.4428 - accuracy: 0.7899\n",
      "Epoch 71/200\n",
      "177/177 [==============================] - 1s 4ms/step - loss: 0.4418 - accuracy: 0.7908\n",
      "Epoch 72/200\n",
      "177/177 [==============================] - 1s 4ms/step - loss: 0.4435 - accuracy: 0.7888\n",
      "Epoch 73/200\n",
      "177/177 [==============================] - 1s 4ms/step - loss: 0.4436 - accuracy: 0.7876\n",
      "Epoch 74/200\n",
      "177/177 [==============================] - 1s 4ms/step - loss: 0.4430 - accuracy: 0.7879\n",
      "Epoch 75/200\n",
      "177/177 [==============================] - 1s 4ms/step - loss: 0.4429 - accuracy: 0.7918\n",
      "Epoch 76/200\n",
      "177/177 [==============================] - 1s 4ms/step - loss: 0.4425 - accuracy: 0.7851\n",
      "Epoch 77/200\n",
      "177/177 [==============================] - 1s 4ms/step - loss: 0.4408 - accuracy: 0.7870\n",
      "Epoch 78/200\n",
      "177/177 [==============================] - 1s 4ms/step - loss: 0.4432 - accuracy: 0.7890\n",
      "Epoch 79/200\n",
      "177/177 [==============================] - 1s 4ms/step - loss: 0.4423 - accuracy: 0.7901\n",
      "Epoch 80/200\n",
      "177/177 [==============================] - 1s 4ms/step - loss: 0.4434 - accuracy: 0.7867\n",
      "Epoch 81/200\n",
      "177/177 [==============================] - 1s 4ms/step - loss: 0.4422 - accuracy: 0.7913\n",
      "Epoch 82/200\n",
      "177/177 [==============================] - 1s 4ms/step - loss: 0.4403 - accuracy: 0.7895\n",
      "Epoch 83/200\n",
      "177/177 [==============================] - 1s 4ms/step - loss: 0.4399 - accuracy: 0.7892\n",
      "Epoch 84/200\n",
      "177/177 [==============================] - 1s 4ms/step - loss: 0.4415 - accuracy: 0.7904\n",
      "Epoch 85/200\n",
      "177/177 [==============================] - 1s 4ms/step - loss: 0.4416 - accuracy: 0.7915\n",
      "Epoch 86/200\n",
      "177/177 [==============================] - 1s 4ms/step - loss: 0.4389 - accuracy: 0.7927\n",
      "Epoch 87/200\n",
      "177/177 [==============================] - 1s 4ms/step - loss: 0.4380 - accuracy: 0.7917\n",
      "Epoch 88/200\n",
      "177/177 [==============================] - 1s 4ms/step - loss: 0.4418 - accuracy: 0.7879\n",
      "Epoch 89/200\n",
      "177/177 [==============================] - 1s 4ms/step - loss: 0.4386 - accuracy: 0.7945\n",
      "Epoch 90/200\n",
      "177/177 [==============================] - 1s 4ms/step - loss: 0.4410 - accuracy: 0.7929\n",
      "Epoch 91/200\n",
      "177/177 [==============================] - 1s 4ms/step - loss: 0.4426 - accuracy: 0.7894\n",
      "Epoch 92/200\n",
      "177/177 [==============================] - 1s 4ms/step - loss: 0.4388 - accuracy: 0.7917\n",
      "Epoch 93/200\n",
      "177/177 [==============================] - 1s 4ms/step - loss: 0.4399 - accuracy: 0.7940\n",
      "Epoch 94/200\n",
      "177/177 [==============================] - 1s 4ms/step - loss: 0.4386 - accuracy: 0.7920\n",
      "Epoch 95/200\n",
      "177/177 [==============================] - 1s 4ms/step - loss: 0.4370 - accuracy: 0.7890\n",
      "Epoch 96/200\n",
      "177/177 [==============================] - 1s 4ms/step - loss: 0.4384 - accuracy: 0.7929\n",
      "Epoch 97/200\n",
      "177/177 [==============================] - 1s 4ms/step - loss: 0.4383 - accuracy: 0.7924\n",
      "Epoch 98/200\n",
      "177/177 [==============================] - 1s 4ms/step - loss: 0.4379 - accuracy: 0.7927\n",
      "Epoch 99/200\n",
      "177/177 [==============================] - 1s 4ms/step - loss: 0.4376 - accuracy: 0.7909\n",
      "Epoch 100/200\n",
      "177/177 [==============================] - 1s 4ms/step - loss: 0.4382 - accuracy: 0.7927\n",
      "Epoch 101/200\n",
      "177/177 [==============================] - 1s 4ms/step - loss: 0.4393 - accuracy: 0.7931\n",
      "Epoch 102/200\n",
      "177/177 [==============================] - 1s 4ms/step - loss: 0.4403 - accuracy: 0.7933\n",
      "Epoch 103/200\n",
      "177/177 [==============================] - 1s 4ms/step - loss: 0.4373 - accuracy: 0.7954\n",
      "Epoch 104/200\n",
      "177/177 [==============================] - 1s 4ms/step - loss: 0.4412 - accuracy: 0.7929\n",
      "Epoch 105/200\n",
      "177/177 [==============================] - 1s 4ms/step - loss: 0.4379 - accuracy: 0.7895\n",
      "Epoch 106/200\n",
      "177/177 [==============================] - 1s 4ms/step - loss: 0.4387 - accuracy: 0.7911\n",
      "Epoch 107/200\n",
      "177/177 [==============================] - 1s 4ms/step - loss: 0.4405 - accuracy: 0.7901\n",
      "Epoch 108/200\n",
      "177/177 [==============================] - 1s 4ms/step - loss: 0.4384 - accuracy: 0.7933\n",
      "Epoch 109/200\n",
      "177/177 [==============================] - 1s 4ms/step - loss: 0.4398 - accuracy: 0.7917\n",
      "Epoch 110/200\n",
      "177/177 [==============================] - 1s 4ms/step - loss: 0.4375 - accuracy: 0.7872\n",
      "Epoch 111/200\n",
      "177/177 [==============================] - 1s 4ms/step - loss: 0.4390 - accuracy: 0.7952\n",
      "Epoch 112/200\n",
      "177/177 [==============================] - 1s 4ms/step - loss: 0.4361 - accuracy: 0.7982\n",
      "Epoch 113/200\n",
      "177/177 [==============================] - 1s 4ms/step - loss: 0.4372 - accuracy: 0.7908\n",
      "Epoch 114/200\n",
      "177/177 [==============================] - 1s 4ms/step - loss: 0.4366 - accuracy: 0.7945\n",
      "Epoch 115/200\n",
      "177/177 [==============================] - 1s 4ms/step - loss: 0.4416 - accuracy: 0.7901\n",
      "Epoch 116/200\n",
      "177/177 [==============================] - 1s 4ms/step - loss: 0.4354 - accuracy: 0.7929\n",
      "Epoch 117/200\n",
      "177/177 [==============================] - 1s 4ms/step - loss: 0.4344 - accuracy: 0.7949\n",
      "Epoch 118/200\n",
      "177/177 [==============================] - 1s 4ms/step - loss: 0.4351 - accuracy: 0.7936\n",
      "Epoch 119/200\n",
      "177/177 [==============================] - 1s 4ms/step - loss: 0.4354 - accuracy: 0.7909\n",
      "Epoch 120/200\n",
      "177/177 [==============================] - 1s 4ms/step - loss: 0.4362 - accuracy: 0.7901\n",
      "Epoch 121/200\n",
      "177/177 [==============================] - 1s 4ms/step - loss: 0.4355 - accuracy: 0.7943\n",
      "Epoch 122/200\n",
      "177/177 [==============================] - 1s 4ms/step - loss: 0.4354 - accuracy: 0.7917\n",
      "Epoch 123/200\n",
      "177/177 [==============================] - 1s 4ms/step - loss: 0.4362 - accuracy: 0.7936\n",
      "Epoch 124/200\n",
      "177/177 [==============================] - 1s 4ms/step - loss: 0.4366 - accuracy: 0.7917\n",
      "Epoch 125/200\n",
      "177/177 [==============================] - 1s 4ms/step - loss: 0.4354 - accuracy: 0.7956\n",
      "Epoch 126/200\n",
      "177/177 [==============================] - 1s 4ms/step - loss: 0.4343 - accuracy: 0.7933\n",
      "Epoch 127/200\n",
      "177/177 [==============================] - 1s 4ms/step - loss: 0.4387 - accuracy: 0.7950\n",
      "Epoch 128/200\n",
      "177/177 [==============================] - 1s 4ms/step - loss: 0.4323 - accuracy: 0.7956\n",
      "Epoch 129/200\n",
      "177/177 [==============================] - 1s 4ms/step - loss: 0.4358 - accuracy: 0.7901\n",
      "Epoch 130/200\n",
      "177/177 [==============================] - 1s 4ms/step - loss: 0.4390 - accuracy: 0.7952\n",
      "Epoch 131/200\n",
      "177/177 [==============================] - 1s 4ms/step - loss: 0.4330 - accuracy: 0.7936\n",
      "Epoch 132/200\n",
      "177/177 [==============================] - 1s 4ms/step - loss: 0.4307 - accuracy: 0.7989\n",
      "Epoch 133/200\n",
      "177/177 [==============================] - 1s 4ms/step - loss: 0.4381 - accuracy: 0.7894\n",
      "Epoch 134/200\n",
      "177/177 [==============================] - 1s 4ms/step - loss: 0.4335 - accuracy: 0.7984\n",
      "Epoch 135/200\n",
      "177/177 [==============================] - 1s 4ms/step - loss: 0.4339 - accuracy: 0.7940\n",
      "Epoch 136/200\n",
      "177/177 [==============================] - 1s 4ms/step - loss: 0.4343 - accuracy: 0.7941\n",
      "Epoch 137/200\n",
      "177/177 [==============================] - 1s 4ms/step - loss: 0.4371 - accuracy: 0.7989\n",
      "Epoch 138/200\n",
      "177/177 [==============================] - 1s 4ms/step - loss: 0.4352 - accuracy: 0.7945\n",
      "Epoch 139/200\n",
      "177/177 [==============================] - 1s 4ms/step - loss: 0.4329 - accuracy: 0.7966\n",
      "Epoch 140/200\n",
      "177/177 [==============================] - 1s 4ms/step - loss: 0.4332 - accuracy: 0.7956\n",
      "Epoch 141/200\n",
      "177/177 [==============================] - 1s 4ms/step - loss: 0.4343 - accuracy: 0.7936\n",
      "Epoch 142/200\n",
      "177/177 [==============================] - 1s 4ms/step - loss: 0.4327 - accuracy: 0.7922\n",
      "Epoch 143/200\n",
      "177/177 [==============================] - 1s 4ms/step - loss: 0.4316 - accuracy: 0.7915\n",
      "Epoch 144/200\n",
      "177/177 [==============================] - 1s 4ms/step - loss: 0.4325 - accuracy: 0.7984\n",
      "Epoch 145/200\n",
      "177/177 [==============================] - 1s 4ms/step - loss: 0.4375 - accuracy: 0.7908\n",
      "Epoch 146/200\n",
      "177/177 [==============================] - 1s 4ms/step - loss: 0.4354 - accuracy: 0.7941\n",
      "Epoch 147/200\n",
      "177/177 [==============================] - 1s 4ms/step - loss: 0.4336 - accuracy: 0.7950\n",
      "Epoch 148/200\n",
      "177/177 [==============================] - 1s 4ms/step - loss: 0.4327 - accuracy: 0.7954\n",
      "Epoch 149/200\n",
      "177/177 [==============================] - 1s 4ms/step - loss: 0.4314 - accuracy: 0.7945\n",
      "Epoch 150/200\n",
      "177/177 [==============================] - 1s 4ms/step - loss: 0.4354 - accuracy: 0.7936\n",
      "Epoch 151/200\n",
      "177/177 [==============================] - 1s 4ms/step - loss: 0.4379 - accuracy: 0.7922\n",
      "Epoch 152/200\n",
      "177/177 [==============================] - 1s 4ms/step - loss: 0.4293 - accuracy: 0.8002\n",
      "Epoch 153/200\n",
      "177/177 [==============================] - 1s 4ms/step - loss: 0.4317 - accuracy: 0.7950\n",
      "Epoch 154/200\n",
      "177/177 [==============================] - 1s 4ms/step - loss: 0.4332 - accuracy: 0.7970\n",
      "Epoch 155/200\n",
      "177/177 [==============================] - 1s 4ms/step - loss: 0.4331 - accuracy: 0.7918\n",
      "Epoch 156/200\n",
      "177/177 [==============================] - 1s 4ms/step - loss: 0.4323 - accuracy: 0.7950\n",
      "Epoch 157/200\n",
      "177/177 [==============================] - 1s 4ms/step - loss: 0.4330 - accuracy: 0.7883\n",
      "Epoch 158/200\n",
      "177/177 [==============================] - 1s 4ms/step - loss: 0.4414 - accuracy: 0.7941\n",
      "Epoch 159/200\n",
      "177/177 [==============================] - 1s 4ms/step - loss: 0.4396 - accuracy: 0.7957\n",
      "Epoch 160/200\n",
      "177/177 [==============================] - 1s 4ms/step - loss: 0.4322 - accuracy: 0.7945\n",
      "Epoch 161/200\n",
      "177/177 [==============================] - 1s 4ms/step - loss: 0.4361 - accuracy: 0.7972\n",
      "Epoch 162/200\n",
      "177/177 [==============================] - 1s 4ms/step - loss: 0.4331 - accuracy: 0.7957\n",
      "Epoch 163/200\n",
      "177/177 [==============================] - 1s 4ms/step - loss: 0.4348 - accuracy: 0.7961\n",
      "Epoch 164/200\n",
      "177/177 [==============================] - 1s 4ms/step - loss: 0.4355 - accuracy: 0.7986\n",
      "Epoch 165/200\n",
      "177/177 [==============================] - 1s 4ms/step - loss: 0.4318 - accuracy: 0.7954\n",
      "Epoch 166/200\n",
      "177/177 [==============================] - 1s 4ms/step - loss: 0.4334 - accuracy: 0.7966\n",
      "Epoch 167/200\n",
      "177/177 [==============================] - 1s 4ms/step - loss: 0.4333 - accuracy: 0.7979\n",
      "Epoch 168/200\n",
      "177/177 [==============================] - 1s 4ms/step - loss: 0.4326 - accuracy: 0.7979\n",
      "Epoch 169/200\n",
      "177/177 [==============================] - 1s 4ms/step - loss: 0.4347 - accuracy: 0.7957\n",
      "Epoch 170/200\n",
      "177/177 [==============================] - 1s 4ms/step - loss: 0.4332 - accuracy: 0.7933\n",
      "Epoch 171/200\n",
      "177/177 [==============================] - 1s 4ms/step - loss: 0.4317 - accuracy: 0.7934\n",
      "Epoch 172/200\n",
      "177/177 [==============================] - 1s 4ms/step - loss: 0.4349 - accuracy: 0.7963\n",
      "Epoch 173/200\n",
      "177/177 [==============================] - 1s 4ms/step - loss: 0.4369 - accuracy: 0.7936\n",
      "Epoch 174/200\n",
      "177/177 [==============================] - 1s 4ms/step - loss: 0.4303 - accuracy: 0.7966\n",
      "Epoch 175/200\n",
      "177/177 [==============================] - 1s 4ms/step - loss: 0.4344 - accuracy: 0.7956\n",
      "Epoch 176/200\n",
      "177/177 [==============================] - 1s 4ms/step - loss: 0.4339 - accuracy: 0.7941\n",
      "Epoch 177/200\n",
      "177/177 [==============================] - 1s 4ms/step - loss: 0.4336 - accuracy: 0.7947\n",
      "Epoch 178/200\n",
      "177/177 [==============================] - 1s 4ms/step - loss: 0.4326 - accuracy: 0.7947\n",
      "Epoch 179/200\n",
      "177/177 [==============================] - 1s 4ms/step - loss: 0.4345 - accuracy: 0.7989\n",
      "Epoch 180/200\n",
      "177/177 [==============================] - 1s 4ms/step - loss: 0.4371 - accuracy: 0.7888\n",
      "Epoch 181/200\n",
      "177/177 [==============================] - 1s 4ms/step - loss: 0.4326 - accuracy: 0.7975\n",
      "Epoch 182/200\n",
      "177/177 [==============================] - 1s 4ms/step - loss: 0.4313 - accuracy: 0.7950\n",
      "Epoch 183/200\n",
      "177/177 [==============================] - 1s 4ms/step - loss: 0.4331 - accuracy: 0.7918\n",
      "Epoch 184/200\n",
      "177/177 [==============================] - 1s 4ms/step - loss: 0.4350 - accuracy: 0.7947\n",
      "Epoch 185/200\n",
      "177/177 [==============================] - 1s 4ms/step - loss: 0.4324 - accuracy: 0.7931\n",
      "Epoch 186/200\n",
      "177/177 [==============================] - 1s 4ms/step - loss: 0.4299 - accuracy: 0.7957\n",
      "Epoch 187/200\n",
      "177/177 [==============================] - 1s 4ms/step - loss: 0.4326 - accuracy: 0.7984\n",
      "Epoch 188/200\n",
      "177/177 [==============================] - 1s 4ms/step - loss: 0.4289 - accuracy: 0.7949\n",
      "Epoch 189/200\n",
      "177/177 [==============================] - 1s 4ms/step - loss: 0.4321 - accuracy: 0.7934\n",
      "Epoch 190/200\n",
      "177/177 [==============================] - 1s 4ms/step - loss: 0.4298 - accuracy: 0.7982\n",
      "Epoch 191/200\n",
      "177/177 [==============================] - 1s 4ms/step - loss: 0.4320 - accuracy: 0.7938\n",
      "Epoch 192/200\n",
      "177/177 [==============================] - 1s 4ms/step - loss: 0.4338 - accuracy: 0.7936\n",
      "Epoch 193/200\n",
      "177/177 [==============================] - 1s 4ms/step - loss: 0.4313 - accuracy: 0.7982\n",
      "Epoch 194/200\n",
      "177/177 [==============================] - 1s 4ms/step - loss: 0.4293 - accuracy: 0.7924\n",
      "Epoch 195/200\n",
      "177/177 [==============================] - 1s 4ms/step - loss: 0.4314 - accuracy: 0.7975\n",
      "Epoch 196/200\n",
      "177/177 [==============================] - 1s 4ms/step - loss: 0.4336 - accuracy: 0.7913\n",
      "Epoch 197/200\n",
      "177/177 [==============================] - 1s 4ms/step - loss: 0.4302 - accuracy: 0.7957\n",
      "Epoch 198/200\n",
      "177/177 [==============================] - 1s 4ms/step - loss: 0.4323 - accuracy: 0.7989\n",
      "Epoch 199/200\n",
      "177/177 [==============================] - 1s 4ms/step - loss: 0.4288 - accuracy: 0.7991\n",
      "Epoch 200/200\n",
      "177/177 [==============================] - 1s 4ms/step - loss: 0.4320 - accuracy: 0.7968\n"
     ]
    }
   ],
   "source": [
    "history = model.fit(X_train, y_train, epochs=200, batch_size=32)"
   ]
  },
  {
   "cell_type": "code",
   "execution_count": 62,
   "metadata": {},
   "outputs": [
    {
     "data": {
      "text/plain": [
       "<Axes: >"
      ]
     },
     "execution_count": 62,
     "metadata": {},
     "output_type": "execute_result"
    },
    {
     "data": {
      "image/png": "[encoded data removed]",
      "text/plain": [
       "<Figure size 640x480 with 1 Axes>"
      ]
     },
     "metadata": {},
     "output_type": "display_data"
    }
   ],
   "source": [
    "history_df = pd.DataFrame(history.history)\n",
    "# use Pandas native plot method\n",
    "history_df['loss'].plot()\n",
    "history_df['accuracy'].plot()"
   ]
  },
  {
   "cell_type": "code",
   "execution_count": null,
   "metadata": {},
   "outputs": [],
   "source": [
    "y_hat = model.predict(X_test)\n",
    "y_hat = [0 if val < 0.5 else 1 for val in y_hat]\n",
    "\n",
    "\n",
    "\n",
    "for x in y_hat:\n",
    "    result = \"yes\" if y_hat[x] == 1 else \"no\"\n",
    "    print(f\"{result}  predict float: {y_hat[x]}\")"
   ]
  },
  {
   "cell_type": "code",
   "execution_count": 58,
   "metadata": {},
   "outputs": [
    {
     "data": {
      "text/plain": [
       "0.7132718239886444"
      ]
     },
     "execution_count": 58,
     "metadata": {},
     "output_type": "execute_result"
    }
   ],
   "source": [
    "accuracy_score(y_test, y_hat)"
   ]
  },
  {
   "cell_type": "markdown",
   "metadata": {},
   "source": [
    "# 4. Saving and Reloading"
   ]
  },
  {
   "cell_type": "code",
   "execution_count": 59,
   "metadata": {
    "collapsed": true
   },
   "outputs": [
    {
     "name": "stdout",
     "output_type": "stream",
     "text": [
      "INFO:tensorflow:Assets written to: tfmodel\\assets\n"
     ]
    },
    {
     "name": "stderr",
     "output_type": "stream",
     "text": [
      "INFO:tensorflow:Assets written to: tfmodel\\assets\n"
     ]
    }
   ],
   "source": [
    "model.save('tfmodel')"
   ]
  },
  {
   "cell_type": "code",
   "execution_count": 60,
   "metadata": {},
   "outputs": [],
   "source": [
    "del model "
   ]
  },
  {
   "cell_type": "code",
   "execution_count": 61,
   "metadata": {},
   "outputs": [],
   "source": [
    "model = load_model('tfmodel')"
   ]
  }
 ],
 "metadata": {
  "kernelspec": {
   "display_name": "Python 3",
   "language": "python",
   "name": "python3"
  },
  "language_info": {
   "codemirror_mode": {
    "name": "ipython",
    "version": 3
   },
   "file_extension": ".py",
   "mimetype": "text/x-python",
   "name": "python",
   "nbconvert_exporter": "python",
   "pygments_lexer": "ipython3",
   "version": "3.11.6"
  }
 },
 "nbformat": 4,
 "nbformat_minor": 2
}
